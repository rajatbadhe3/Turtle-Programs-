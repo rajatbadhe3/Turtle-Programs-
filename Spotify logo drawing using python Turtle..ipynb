{
 "cells": [
  {
   "cell_type": "code",
   "execution_count": 1,
   "id": "9974aafd",
   "metadata": {},
   "outputs": [],
   "source": [
    "import turtle as t\n",
    "\n",
    "t.begin_fill()\n",
    "t.fillcolor('#1DB954')\n",
    "t.circle(100)\n",
    "t.end_fill()\n",
    "\n",
    "t.penup()\n",
    "t.goto(30,40)\n",
    "t.pendown()\n",
    "\n",
    "t.left(130)\n",
    "t.forward(0)\n",
    "t.pensize(15)\n",
    "t.pencolor('black')\n",
    "t.circle(90,60)\n",
    "\n",
    "t.penup()\n",
    "t.goto(40,65)\n",
    "t.pendown()\n",
    "\n",
    "t.pensize(18)\n",
    "t.right(60)\n",
    "t.forward(0)\n",
    "t.circle(100,60)\n",
    "\n",
    "t.penup()\n",
    "t.goto(60,95)\n",
    "t.pendown()\n",
    "\n",
    "t.pensize(20)\n",
    "t.right(60)\n",
    "t.forward(0)\n",
    "t.circle(110,60)\n",
    "\n",
    "t.done()"
   ]
  },
  {
   "cell_type": "code",
   "execution_count": null,
   "id": "dd11232b",
   "metadata": {},
   "outputs": [],
   "source": []
  },
  {
   "cell_type": "code",
   "execution_count": null,
   "id": "6e36cb17",
   "metadata": {},
   "outputs": [],
   "source": []
  },
  {
   "cell_type": "code",
   "execution_count": null,
   "id": "47eca00a",
   "metadata": {},
   "outputs": [],
   "source": [
    "\n"
   ]
  },
  {
   "cell_type": "code",
   "execution_count": null,
   "id": "c14c5f8c",
   "metadata": {},
   "outputs": [],
   "source": [
    "\n",
    "\n",
    "    "
   ]
  },
  {
   "cell_type": "code",
   "execution_count": null,
   "id": "89fd4133",
   "metadata": {},
   "outputs": [],
   "source": []
  },
  {
   "cell_type": "code",
   "execution_count": null,
   "id": "11e707f8",
   "metadata": {},
   "outputs": [],
   "source": [
    "\n"
   ]
  },
  {
   "cell_type": "code",
   "execution_count": null,
   "id": "5ed6380a",
   "metadata": {},
   "outputs": [],
   "source": []
  },
  {
   "cell_type": "code",
   "execution_count": null,
   "id": "8dfb408b",
   "metadata": {},
   "outputs": [],
   "source": []
  },
  {
   "cell_type": "code",
   "execution_count": null,
   "id": "1b7cf919",
   "metadata": {},
   "outputs": [],
   "source": []
  }
 ],
 "metadata": {
  "kernelspec": {
   "display_name": "Python 3",
   "language": "python",
   "name": "python3"
  },
  "language_info": {
   "codemirror_mode": {
    "name": "ipython",
    "version": 3
   },
   "file_extension": ".py",
   "mimetype": "text/x-python",
   "name": "python",
   "nbconvert_exporter": "python",
   "pygments_lexer": "ipython3",
   "version": "3.8.8"
  }
 },
 "nbformat": 4,
 "nbformat_minor": 5
}
